{
 "cells": [
  {
   "cell_type": "markdown",
   "metadata": {
    "collapsed": true,
    "pycharm": {
     "name": "#%% md\n"
    }
   },
   "source": [
    "---\n",
    "# Curso Base de datos Python SQL y No-SQL.\n",
    "---\n",
    "\n",
    "#### Conexion a base de datos utilizando MySQLdb\n",
    "\n",
    "Utilizando la funcion connect se enviaran los parametros de conexion\n",
    "seguido de esto se crea una variable cursor para poder\n",
    "ejecutar diversas funciones como lo pueden ser ejecutar\n",
    "comandos sql o cerrar la base de datos."
   ]
  },
  {
   "cell_type": "code",
   "execution_count": 1,
   "outputs": [],
   "source": [
    "# import MySQLdb\n",
    "\n",
    "HOST = 'localhost'\n",
    "USER = 'root'\n",
    "PASSWORD = ''\n",
    "DATABASE = 'cursopractica'\n",
    "\n",
    "\n",
    "# try:\n",
    "#     #connection = MySQLdb.connect(HOST, USER, PASSWORD, DATABASE)\n",
    "#     #cursor = connection.cursor()\n",
    "#     #connection.close()\n",
    "# except MySQLdb.Error as error:\n",
    "#     print(error)\n",
    "\n",
    "#connection = MySQLdb.connect(HOST, USER, PASSWORD, DATABASE)\n",
    "#cursor = connection.cursor()\n",
    "#connection.close()"
   ],
   "metadata": {
    "collapsed": false,
    "pycharm": {
     "name": "#%%\n"
    }
   }
  },
  {
   "cell_type": "markdown",
   "source": [
    "\n",
    "Para la creacion de tablas se utilizara la sintaxis SQL\n",
    "a traves de una variable con un string. utilizando el comando\n",
    "execute dentro del cursor se ejecutara todo lo que\n",
    "existe dentro del string.\n",
    "\n",
    "A su vez el comando cursor.fetchall() podra obtener todos los datos\n",
    "que sean impresos para luego ser mostrados"
   ],
   "metadata": {
    "collapsed": false
   }
  },
  {
   "cell_type": "code",
   "execution_count": 2,
   "outputs": [],
   "source": [
    "USER_TABLE = \"\"\" CREATE TABLE users(\n",
    "                id INT(6) UNSIGNED AUTO_INCREMENT PRIMARY KEY,\n",
    "                username VARCHAR (50) NOT NULL,\n",
    "                password VARCHAR (50) NOT NULL)\n",
    "\n",
    "\"\"\"\n",
    "\n",
    "DROP_USER = \"DROP TABLE IF EXISTS 'users' \"\n",
    "SHOW = \"SHOW TABLES\"\n",
    "#cursor.execute(USER_TABLE)\n",
    "# tables = cursor.fetchall()\n",
    "# for table in tables:\n",
    "#   print(table)"
   ],
   "metadata": {
    "collapsed": false,
    "pycharm": {
     "name": "#%%\n"
    }
   }
  },
  {
   "cell_type": "markdown",
   "source": [
    "### Insertar Datos\n",
    "\n",
    "Supongamos que se quieren agregar datos dentro de la base de datos\n",
    "utilizando un script dirigidos a la tabla ya creada.\n",
    "Para esto se requiere utilizar un string dinamico con format\n",
    "y input.\n",
    "\n",
    "Recuerda que debe ser comentado el ingreso de datos si no este\n",
    "no guardara."
   ],
   "metadata": {
    "collapsed": false
   }
  },
  {
   "cell_type": "code",
   "execution_count": 3,
   "outputs": [
    {
     "name": "stdout",
     "output_type": "stream",
     "text": [
      "INSERT INTO users (username, password) VALUES ('juan','password')\n"
     ]
    }
   ],
   "source": [
    "INSERT_USER = \"INSERT INTO users (username, password) VALUES ('{username}','password')\"\n",
    "\n",
    "username = input('Ingrese el username')\n",
    "password = input('Ingrese el password')\n",
    "\n",
    "query = INSERT_USER.format(username=username, password=password)\n",
    "print(query)\n",
    "# cursor.execute(query)\n",
    "# connection.commit()"
   ],
   "metadata": {
    "collapsed": false,
    "pycharm": {
     "name": "#%%\n"
    }
   }
  },
  {
   "cell_type": "markdown",
   "source": [
    "### Obtener Datos\n",
    "Para obtener los datos utilizaremos query se SELECT recordemos que este tipo de\n",
    "sentencias pueden ser manipuladas a traves del .format como fue plasmado\n",
    "anteriormente."
   ],
   "metadata": {
    "collapsed": false
   }
  },
  {
   "cell_type": "code",
   "execution_count": 4,
   "outputs": [
    {
     "name": "stdout",
     "output_type": "stream",
     "text": [
      " SELECT * FROM users WHERE id = 1\n"
     ]
    }
   ],
   "source": [
    "SELECT_USER = \" SELECT * FROM users WHERE id = {id}\"\n",
    "\n",
    "query = SELECT_USER.format(id=1)\n",
    "print(query)\n",
    "\n",
    "#cursor.execute(query)\n",
    "#users = cursor.fetchall()\n"
   ],
   "metadata": {
    "collapsed": false,
    "pycharm": {
     "name": "#%%\n"
    }
   }
  },
  {
   "cell_type": "markdown",
   "source": [
    "### Actualizar Datos\n",
    "como anteriormente fue mencionado se utilizara un string en conjunto de\n",
    ".format para poder actualizar los datos con el comando execute.\n",
    "\n"
   ],
   "metadata": {
    "collapsed": false
   }
  },
  {
   "cell_type": "code",
   "execution_count": 5,
   "outputs": [
    {
     "name": "stdout",
     "output_type": "stream",
     "text": [
      "UPDATE users SET username='julio', password='1234' WHERE id = 1 \n"
     ]
    }
   ],
   "source": [
    "UPDATE_USER = \"UPDATE users SET username='{username}', password='{password}' WHERE id = {id} \"\n",
    "\n",
    "query = UPDATE_USER.format(username='julio', password='1234', id=1)\n",
    "print(query)\n",
    "#cursor.execute(query)"
   ],
   "metadata": {
    "collapsed": false,
    "pycharm": {
     "name": "#%%\n"
    }
   }
  },
  {
   "cell_type": "markdown",
   "source": [
    "### Eliminar Datos\n",
    "como anteriormente fue mencionado se utilizara un string en conjunto de\n",
    ".format para poder eliminar los datos con el comando execute."
   ],
   "metadata": {
    "collapsed": false
   }
  },
  {
   "cell_type": "code",
   "execution_count": 6,
   "outputs": [
    {
     "name": "stdout",
     "output_type": "stream",
     "text": [
      "DELETE FROM users WHERE id=1\n"
     ]
    }
   ],
   "source": [
    "DELETE_USER = \"DELETE FROM users WHERE id={id}\"\n",
    "\n",
    "query = DELETE_USER.format(id=1)\n",
    "print(query)\n",
    "# cursor.execute(query)"
   ],
   "metadata": {
    "collapsed": false,
    "pycharm": {
     "name": "#%%\n"
    }
   }
  },
  {
   "cell_type": "markdown",
   "source": [
    "---\n",
    "# ORM\n",
    "---\n",
    "Para trabajar con los ORM no trabajaremos con un lenguajes de consulta,\n",
    "ni una libreria en especifico como fue utilizado anteriomente\n",
    "python cuenta con una gran variedad de orm para poder realizar\n",
    "una programacion orientada a objetos a traves de la base de datos.\n",
    "\n",
    "peewee es un orm que se asemeja al django a traves de sus modelos.\n",
    "un orm en general es un manejador de base de datos el cual\n",
    "sera interpretado.\n",
    "\n",
    "Primero se importara la libreria y se definira la base de datos a utilizar\n",
    "seguido de esto se creara el modelo de la tabla de datos y a donde va dirigido\n",
    "en sus opciones Meta:\n"
   ],
   "metadata": {
    "collapsed": false,
    "pycharm": {
     "name": "#%% md\n"
    }
   }
  },
  {
   "cell_type": "code",
   "execution_count": 7,
   "outputs": [],
   "source": [
    "import peewee\n",
    "import datetime\n",
    "db = peewee.SqliteDatabase('test.db')\n",
    "\n",
    "class User(peewee.Model):\n",
    "    username = peewee.CharField(unique=True, max_length=50, index=True)\n",
    "    password = peewee.CharField(max_length=50)\n",
    "    email = peewee.CharField( max_length=50, null=True)\n",
    "    activate = peewee.BooleanField(default=True)\n",
    "    created_date = peewee.DateTimeField(default=datetime.datetime.now)\n",
    "\n",
    "    class Meta:\n",
    "        database = db\n",
    "        db_table = 'users'\n",
    "\n",
    "    def __str__(self):\n",
    "        return self.username\n",
    "\n",
    "if User.table_exists():\n",
    "    User.drop_table()\n",
    "User.create_table()"
   ],
   "metadata": {
    "collapsed": false,
    "pycharm": {
     "name": "#%%\n"
    }
   }
  },
  {
   "cell_type": "markdown",
   "source": [
    "### insertar datos\n",
    "\n",
    "a traves del orm podremos insertar datos utilizando\n",
    "las instancias, es decir a traves de una clase podremos\n",
    "agregar datos a nuestro objeto para asi generarlo.\n"
   ],
   "metadata": {
    "collapsed": false,
    "pycharm": {
     "name": "#%% md\n"
    }
   }
  },
  {
   "cell_type": "code",
   "execution_count": 8,
   "outputs": [
    {
     "data": {
      "text/plain": "1"
     },
     "execution_count": 8,
     "metadata": {},
     "output_type": "execute_result"
    }
   ],
   "source": [
    "user = User()\n",
    "user.username = 'julio'\n",
    "user.password = 'probando'\n",
    "user.email = 'julio@gmail.com'\n",
    "user.save()"
   ],
   "metadata": {
    "collapsed": false,
    "pycharm": {
     "name": "#%%\n"
    }
   }
  },
  {
   "cell_type": "code",
   "execution_count": 9,
   "outputs": [
    {
     "data": {
      "text/plain": "1"
     },
     "execution_count": 9,
     "metadata": {},
     "output_type": "execute_result"
    }
   ],
   "source": [
    "user = User(username='julio_2', password='probando',email='julio@gmail.com')\n",
    "user.save()"
   ],
   "metadata": {
    "collapsed": false,
    "pycharm": {
     "name": "#%%\n"
    }
   }
  },
  {
   "cell_type": "code",
   "execution_count": 10,
   "outputs": [
    {
     "data": {
      "text/plain": "1"
     },
     "execution_count": 10,
     "metadata": {},
     "output_type": "execute_result"
    }
   ],
   "source": [
    "user = {'username':'jl','password':'prueba'}\n",
    "user = User(**user)\n",
    "user.save()"
   ],
   "metadata": {
    "collapsed": false,
    "pycharm": {
     "name": "#%%\n"
    }
   }
  },
  {
   "cell_type": "code",
   "execution_count": 11,
   "outputs": [
    {
     "data": {
      "text/plain": "<User: julio_3>"
     },
     "execution_count": 11,
     "metadata": {},
     "output_type": "execute_result"
    }
   ],
   "source": [
    "User.create(username='julio_3', password='julio00', email='pedro@gmail.com')"
   ],
   "metadata": {
    "collapsed": false,
    "pycharm": {
     "name": "#%%\n"
    }
   }
  },
  {
   "cell_type": "code",
   "execution_count": 12,
   "outputs": [
    {
     "data": {
      "text/plain": "5"
     },
     "execution_count": 12,
     "metadata": {},
     "output_type": "execute_result"
    }
   ],
   "source": [
    "query2 = User.insert(username='Julio_23', password='lala')\n",
    "query2.execute()"
   ],
   "metadata": {
    "collapsed": false,
    "pycharm": {
     "name": "#%%\n"
    }
   }
  },
  {
   "cell_type": "markdown",
   "source": [
    "### Obtener, actualizar y eliminar datos\n",
    "para obtener datos utilizaremos diversos\n",
    "metodos que seran presentados a continuacion.\n",
    "\n"
   ],
   "metadata": {
    "collapsed": false,
    "pycharm": {
     "name": "#%% md\n"
    }
   }
  },
  {
   "cell_type": "code",
   "execution_count": 13,
   "outputs": [
    {
     "name": "stdout",
     "output_type": "stream",
     "text": [
      "julio\n"
     ]
    },
    {
     "data": {
      "text/plain": "1"
     },
     "execution_count": 13,
     "metadata": {},
     "output_type": "execute_result"
    }
   ],
   "source": [
    "user = User.get(User.id == 1)\n",
    "print(user)\n",
    "user.activate = False\n",
    "user.save()"
   ],
   "metadata": {
    "collapsed": false,
    "pycharm": {
     "name": "#%%\n"
    }
   }
  },
  {
   "cell_type": "code",
   "execution_count": 14,
   "outputs": [
    {
     "data": {
      "text/plain": "1"
     },
     "execution_count": 14,
     "metadata": {},
     "output_type": "execute_result"
    }
   ],
   "source": [
    "\n",
    "query3 =User.update(activate=True).where(User.id == 1)\n",
    "query3.execute()"
   ],
   "metadata": {
    "collapsed": false,
    "pycharm": {
     "name": "#%%\n"
    }
   }
  },
  {
   "cell_type": "code",
   "execution_count": 15,
   "outputs": [
    {
     "data": {
      "text/plain": "1"
     },
     "execution_count": 15,
     "metadata": {},
     "output_type": "execute_result"
    }
   ],
   "source": [
    "user.delete_instance()"
   ],
   "metadata": {
    "collapsed": false,
    "pycharm": {
     "name": "#%%\n"
    }
   }
  },
  {
   "cell_type": "code",
   "execution_count": 16,
   "outputs": [
    {
     "data": {
      "text/plain": "1"
     },
     "execution_count": 16,
     "metadata": {},
     "output_type": "execute_result"
    }
   ],
   "source": [
    "query4 =User.delete().where(User.id==2)\n",
    "query4.execute()"
   ],
   "metadata": {
    "collapsed": false,
    "pycharm": {
     "name": "#%%\n"
    }
   }
  },
  {
   "cell_type": "markdown",
   "source": [
    "### Obtencion de registros\n",
    "\n"
   ],
   "metadata": {
    "collapsed": false,
    "pycharm": {
     "name": "#%% md\n"
    }
   }
  },
  {
   "cell_type": "code",
   "execution_count": 17,
   "outputs": [
    {
     "name": "stdout",
     "output_type": "stream",
     "text": [
      "julio_3\n"
     ]
    }
   ],
   "source": [
    "user = User.get(User.id==4)\n",
    "print(user)"
   ],
   "metadata": {
    "collapsed": false,
    "pycharm": {
     "name": "#%%\n"
    }
   }
  },
  {
   "cell_type": "code",
   "execution_count": 18,
   "outputs": [
    {
     "name": "stdout",
     "output_type": "stream",
     "text": [
      "jl\n",
      "julio_3\n",
      "Julio_23\n"
     ]
    }
   ],
   "source": [
    "users = User.select()\n",
    "for user in users:\n",
    "    print(user)"
   ],
   "metadata": {
    "collapsed": false,
    "pycharm": {
     "name": "#%%\n"
    }
   }
  },
  {
   "cell_type": "code",
   "execution_count": 19,
   "outputs": [
    {
     "name": "stdout",
     "output_type": "stream",
     "text": [
      "julio_3\n",
      "Julio_23\n"
     ]
    }
   ],
   "source": [
    "users = User.select().where(User.id > 3)\n",
    "for user in users:\n",
    "    print(user)"
   ],
   "metadata": {
    "collapsed": false,
    "pycharm": {
     "name": "#%%\n"
    }
   }
  },
  {
   "cell_type": "code",
   "execution_count": 20,
   "outputs": [
    {
     "name": "stdout",
     "output_type": "stream",
     "text": [
      "jl\n",
      "prueba\n",
      "julio_3\n",
      "julio00\n",
      "Julio_23\n",
      "lala\n"
     ]
    }
   ],
   "source": [
    "users = User.select(User.username,User.password).where(User.id >= 3)\n",
    "for user in users:\n",
    "    print(user.username)\n",
    "    print(user.password)"
   ],
   "metadata": {
    "collapsed": false,
    "pycharm": {
     "name": "#%%\n"
    }
   }
  },
  {
   "cell_type": "code",
   "execution_count": 21,
   "outputs": [],
   "source": [
    "users = User.select(User.username,User.password).where((User.id >= 3) and (User.password=='password'))\n",
    "for user in users:\n",
    "    print(user.username)\n",
    "    print(user.password)"
   ],
   "metadata": {
    "collapsed": false,
    "pycharm": {
     "name": "#%%\n"
    }
   }
  },
  {
   "cell_type": "code",
   "execution_count": 22,
   "outputs": [
    {
     "name": "stdout",
     "output_type": "stream",
     "text": [
      "jl\n",
      "prueba\n",
      "Julio_23\n",
      "lala\n"
     ]
    }
   ],
   "source": [
    "# Buscar por registro Nulo\n",
    "users = User.select(User.username,User.password).where(User.email >> None)\n",
    "for user in users:\n",
    "    print(user.username)\n",
    "    print(user.password)"
   ],
   "metadata": {
    "collapsed": false,
    "pycharm": {
     "name": "#%%\n"
    }
   }
  },
  {
   "cell_type": "code",
   "execution_count": 23,
   "outputs": [
    {
     "name": "stdout",
     "output_type": "stream",
     "text": [
      "julio_3\n",
      "julio00\n"
     ]
    }
   ],
   "source": [
    "# Buscar por registro no Nulo\n",
    "users = User.select(User.username,User.password).where(~User.email >> None)\n",
    "for user in users:\n",
    "    print(user.username)\n",
    "    print(user.password)\n"
   ],
   "metadata": {
    "collapsed": false,
    "pycharm": {
     "name": "#%%\n"
    }
   }
  },
  {
   "cell_type": "code",
   "execution_count": 24,
   "outputs": [
    {
     "name": "stdout",
     "output_type": "stream",
     "text": [
      "julio_3\n",
      "julio00\n"
     ]
    }
   ],
   "source": [
    "# iterar una lista para ubicar registros\n",
    "# select * from users where username in []\n",
    "users2 = ['julio_3','julio']\n",
    "users = User.select(User.username,User.password).where(User.username << users2)\n",
    "for user in users:\n",
    "    print(user.username)\n",
    "    print(user.password)"
   ],
   "metadata": {
    "collapsed": false,
    "pycharm": {
     "name": "#%%\n"
    }
   }
  },
  {
   "cell_type": "code",
   "execution_count": 25,
   "outputs": [
    {
     "name": "stdout",
     "output_type": "stream",
     "text": [
      "julio_3\n",
      "julio00\n",
      "Julio_23\n",
      "lala\n"
     ]
    }
   ],
   "source": [
    "# select * from users where user like '%julio%'\n",
    "users2 = ['julio_3','julio']\n",
    "users = User.select(User.username,User.password).where(User.username.contains('julio') )\n",
    "for user in users:\n",
    "    print(user.username)\n",
    "    print(user.password)\n",
    "\n"
   ],
   "metadata": {
    "collapsed": false,
    "pycharm": {
     "name": "#%%\n"
    }
   }
  },
  {
   "cell_type": "code",
   "execution_count": 26,
   "outputs": [
    {
     "name": "stdout",
     "output_type": "stream",
     "text": [
      "julio_3\n",
      "julio00\n",
      "Julio_23\n",
      "lala\n"
     ]
    }
   ],
   "source": [
    "# select * from users where user like '%julio'\n",
    "users2 = ['julio_3','julio']\n",
    "users = User.select(User.username,User.password).where(User.username.startswith('ju') )\n",
    "for user in users:\n",
    "    print(user.username)\n",
    "    print(user.password)\n"
   ],
   "metadata": {
    "collapsed": false,
    "pycharm": {
     "name": "#%%\n"
    }
   }
  },
  {
   "cell_type": "code",
   "execution_count": 27,
   "outputs": [
    {
     "name": "stdout",
     "output_type": "stream",
     "text": [
      "Julio_23\n",
      "lala\n"
     ]
    }
   ],
   "source": [
    "# select * from users where user like 'julio%'\n",
    "users2 = ['julio_3','julio']\n",
    "users = User.select(User.username,User.password).where(User.username.endswith('23') )\n",
    "for user in users:\n",
    "    print(user.username)\n",
    "    print(user.password)\n"
   ],
   "metadata": {
    "collapsed": false,
    "pycharm": {
     "name": "#%%\n"
    }
   }
  },
  {
   "cell_type": "markdown",
   "source": [
    "## Ordenamiento\n"
   ],
   "metadata": {
    "collapsed": false,
    "pycharm": {
     "name": "#%% md\n"
    }
   }
  },
  {
   "cell_type": "code",
   "execution_count": 28,
   "outputs": [
    {
     "name": "stdout",
     "output_type": "stream",
     "text": [
      "3\n"
     ]
    }
   ],
   "source": [
    "## Contara todos los registros\n",
    "count = User.select().count()\n",
    "print(count)"
   ],
   "metadata": {
    "collapsed": false,
    "pycharm": {
     "name": "#%%\n"
    }
   }
  },
  {
   "cell_type": "code",
   "execution_count": 29,
   "outputs": [
    {
     "name": "stdout",
     "output_type": "stream",
     "text": [
      "2\n"
     ]
    }
   ],
   "source": [
    "## contara todos los registros dentro del filtro\n",
    "count = User.select().where(User.id > 3).count()\n",
    "print(count)"
   ],
   "metadata": {
    "collapsed": false,
    "pycharm": {
     "name": "#%%\n"
    }
   }
  },
  {
   "cell_type": "code",
   "execution_count": 30,
   "outputs": [
    {
     "name": "stdout",
     "output_type": "stream",
     "text": [
      "jl\n",
      "julio_3\n"
     ]
    }
   ],
   "source": [
    "## contara los primeros dos registros del query y los retornara\n",
    "users = User.select().where(User.id > 1).limit(2)\n",
    "for user in users:\n",
    "    print(user)\n"
   ],
   "metadata": {
    "collapsed": false,
    "pycharm": {
     "name": "#%%\n"
    }
   }
  },
  {
   "cell_type": "code",
   "execution_count": 31,
   "outputs": [
    {
     "name": "stdout",
     "output_type": "stream",
     "text": [
      "Julio_23\n",
      "jl\n",
      "julio_3\n"
     ]
    }
   ],
   "source": [
    "## Se puede ordenar con el metodo order_by\n",
    "\n",
    "users = User.select().where(User.id > 1).order_by( User.username.asc())\n",
    "for user in users:\n",
    "    print(user)"
   ],
   "metadata": {
    "collapsed": false,
    "pycharm": {
     "name": "#%%\n"
    }
   }
  },
  {
   "cell_type": "code",
   "execution_count": 32,
   "outputs": [
    {
     "name": "stdout",
     "output_type": "stream",
     "text": [
      "julio_3\n",
      "jl\n",
      "Julio_23\n"
     ]
    }
   ],
   "source": [
    "users = User.select().where(User.id > 1).order_by( User.username.desc())\n",
    "for user in users:\n",
    "    print(user)"
   ],
   "metadata": {
    "collapsed": false,
    "pycharm": {
     "name": "#%%\n"
    }
   }
  },
  {
   "cell_type": "code",
   "execution_count": 33,
   "outputs": [
    {
     "name": "stdout",
     "output_type": "stream",
     "text": [
      "Julio_23\n",
      "jl\n",
      "julio_3\n"
     ]
    }
   ],
   "source": [
    "users = User.select().where(User.id > 1).order_by( +User.username)\n",
    "for user in users:\n",
    "    print(user)\n"
   ],
   "metadata": {
    "collapsed": false,
    "pycharm": {
     "name": "#%%\n"
    }
   }
  },
  {
   "cell_type": "code",
   "execution_count": 34,
   "outputs": [
    {
     "name": "stdout",
     "output_type": "stream",
     "text": [
      "julio_3\n",
      "jl\n",
      "Julio_23\n"
     ]
    }
   ],
   "source": [
    "users = User.select().where(User.id > 1).order_by( -User.username)\n",
    "for user in users:\n",
    "    print(user)\n"
   ],
   "metadata": {
    "collapsed": false,
    "pycharm": {
     "name": "#%%\n"
    }
   }
  },
  {
   "cell_type": "code",
   "execution_count": 35,
   "outputs": [
    {
     "name": "stdout",
     "output_type": "stream",
     "text": [
      "Julio_23\n"
     ]
    }
   ],
   "source": [
    "last = User.select().order_by(User.id.desc()).limit(1).get()\n",
    "print(last)"
   ],
   "metadata": {
    "collapsed": false,
    "pycharm": {
     "name": "#%%\n"
    }
   }
  },
  {
   "cell_type": "markdown",
   "source": [
    "### Verificar si existe un registro\n",
    "\n"
   ],
   "metadata": {
    "collapsed": false,
    "pycharm": {
     "name": "#%% md\n"
    }
   }
  },
  {
   "cell_type": "code",
   "execution_count": 36,
   "outputs": [
    {
     "name": "stdout",
     "output_type": "stream",
     "text": [
      "el usuario no existe\n"
     ]
    }
   ],
   "source": [
    "try:\n",
    "    user = User.get(User.id == 10)\n",
    "    print(user)\n",
    "except User.DoesNotExist as error:\n",
    "    print('el usuario no existe')"
   ],
   "metadata": {
    "collapsed": false,
    "pycharm": {
     "name": "#%%\n"
    }
   }
  },
  {
   "cell_type": "code",
   "execution_count": 37,
   "outputs": [
    {
     "name": "stdout",
     "output_type": "stream",
     "text": [
      "None\n"
     ]
    }
   ],
   "source": [
    "user = User.select().where(User.id == 10).first()\n",
    "print(user)"
   ],
   "metadata": {
    "collapsed": false,
    "pycharm": {
     "name": "#%%\n"
    }
   }
  },
  {
   "cell_type": "code",
   "execution_count": 38,
   "outputs": [
    {
     "name": "stdout",
     "output_type": "stream",
     "text": [
      "Usuario no existe\n"
     ]
    }
   ],
   "source": [
    "user = User.select().where(User.id == 10).first()\n",
    "if user:\n",
    "    print('Usuario existe')\n",
    "else:\n",
    "    print('Usuario no existe')"
   ],
   "metadata": {
    "collapsed": false,
    "pycharm": {
     "name": "#%%\n"
    }
   }
  },
  {
   "cell_type": "code",
   "execution_count": 39,
   "outputs": [
    {
     "name": "stdout",
     "output_type": "stream",
     "text": [
      "False\n"
     ]
    }
   ],
   "source": [
    "flag = User.select().where(User.id == 10).exists()\n",
    "print(flag)"
   ],
   "metadata": {
    "collapsed": false,
    "pycharm": {
     "name": "#%%\n"
    }
   }
  },
  {
   "cell_type": "code",
   "execution_count": 40,
   "outputs": [],
   "source": [
    "class Store(peewee.Model):\n",
    "    user = peewee.ForeignKeyField(User, primary_key=True)\n",
    "    name = peewee.CharField(max_length=50)\n",
    "    address = peewee.TextField()\n",
    "    active = peewee.BooleanField(default=True)\n",
    "    created_date = peewee.DateTimeField(default=datetime.datetime.now)\n",
    "    class Meta:\n",
    "        database = db\n",
    "        db_table = 'stores'\n",
    "    def __str__(self):\n",
    "        return self.name\n",
    "if User.table_exists():\n",
    "    User.drop_table()\n",
    "User.create_table()\n",
    "if Store.table_exists():\n",
    "    Store.drop_table()\n",
    "Store.create_table()\n",
    "\n",
    "user = User.create(username='julio23', password='password', email='juan@hotmail.com')\n",
    "store = Store.create(name='Tienda de animales', address='La casanosa', user=user)"
   ],
   "metadata": {
    "collapsed": false,
    "pycharm": {
     "name": "#%%\n"
    }
   }
  },
  {
   "cell_type": "code",
   "execution_count": 41,
   "outputs": [
    {
     "name": "stdout",
     "output_type": "stream",
     "text": [
      "Tienda de animales\n",
      "julio23\n",
      "password\n"
     ]
    }
   ],
   "source": [
    "tienda_1 = Store.get(Store.user_id==1)\n",
    "print(tienda_1)\n",
    "print(tienda_1.user.username)\n",
    "print(tienda_1.user.password)"
   ],
   "metadata": {
    "collapsed": false,
    "pycharm": {
     "name": "#%%\n"
    }
   }
  },
  {
   "cell_type": "code",
   "execution_count": 42,
   "outputs": [],
   "source": [
    "class User(peewee.Model):\n",
    "    username = peewee.CharField(unique=True, max_length=50, index=True)\n",
    "    password = peewee.CharField(max_length=50)\n",
    "    email = peewee.CharField( max_length=50, null=True)\n",
    "    activate = peewee.BooleanField(default=True)\n",
    "    created_date = peewee.DateTimeField(default=datetime.datetime.now)\n",
    "\n",
    "    class Meta:\n",
    "        database = db\n",
    "        db_table = 'users'\n",
    "\n",
    "    def __str__(self):\n",
    "        return self.username\n",
    "\n",
    "class Store(peewee.Model):\n",
    "    user = peewee.ForeignKeyField(User, related_name='stores')\n",
    "    name = peewee.CharField(max_length=50)\n",
    "    address = peewee.TextField()\n",
    "    active = peewee.BooleanField(default=True)\n",
    "    created_date = peewee.DateTimeField(default=datetime.datetime.now)\n",
    "    class Meta:\n",
    "        database = db\n",
    "        db_table = 'stores'\n",
    "    def __str__(self):\n",
    "        return self.name\n",
    "\n",
    "class Product(peewee.Model):\n",
    "    name = peewee.CharField(max_length=100)\n",
    "    description = peewee.TextField()\n",
    "    store = peewee.ForeignKeyField(Store, related_name='products')\n",
    "    price = peewee.DecimalField(max_digits=5, decimal_places=2)\n",
    "    stock = peewee.IntegerField()\n",
    "    created_date = peewee.DateTimeField(default=datetime.datetime.now)\n",
    "\n",
    "    class Meta:\n",
    "        database = db\n",
    "        db_table = 'products'\n",
    "\n",
    "    def __str__(self):\n",
    "        return '{name} - ${price}'.format(name=self.name, price=self.price)\n",
    "\n",
    "def create_tables():\n",
    "    if Product.table_exists():\n",
    "        Product.drop_table()\n",
    "    if Store.table_exists():\n",
    "        Store.drop_table()\n",
    "    if User.table_exists():\n",
    "        User.drop_table()\n",
    "    User.create_table()\n",
    "    Store.create_table()\n",
    "    Product.create_table()\n",
    "\n",
    "def insert_users():\n",
    "    User.create(username='julio_p', password='clave', email='JulioP@gmail.com')\n",
    "    User.create(username='julio_m', password='2222', email='JulioP2@gmail.com')\n",
    "\n",
    "def insert_store():\n",
    "    Store.create(user_id=1,name='Tienda de animales', address='las polonias')\n",
    "    Store.create(user_id=3,name='Tienda de productos', address='las taras')\n",
    "def insert_products():\n",
    "    Product.create(store_id=1, name='Shampoo',description='shampoo para gatos',\n",
    "                   price=15,stock=10)\n",
    "    Product.create(store_id=1, name='Jabon',description='Jabon para gatos',\n",
    "                   price=12,stock=10)\n",
    "    Product.create(store_id=2, name='Jabon de lavar ropa',description='Lavador de ropa',\n",
    "                   price=16.8,stock=10)\n",
    "    Product.create(store_id=2, name='Jamon',description='Jamon de primera',\n",
    "                   price=12.5,stock=26)\n",
    "    Product.create(store_id=2, name='Queso',description='Queso de primera',\n",
    "                   price=8.5,stock=25)\n",
    "\n",
    "def create_schema():\n",
    "    create_tables()\n",
    "    insert_users()\n",
    "    insert_store()\n",
    "    insert_products()\n",
    "\n",
    "create_schema()"
   ],
   "metadata": {
    "collapsed": false,
    "pycharm": {
     "name": "#%%\n"
    }
   }
  },
  {
   "cell_type": "code",
   "execution_count": 43,
   "outputs": [
    {
     "name": "stdout",
     "output_type": "stream",
     "text": [
      "Shampoo - $15\n",
      "Jabon - $12\n"
     ]
    }
   ],
   "source": [
    "#n+1\n",
    "user = User.get(User.id ==1)\n",
    "\n",
    "for store in user.stores:\n",
    "    for product in store.products:\n",
    "        print(product)"
   ],
   "metadata": {
    "collapsed": false,
    "pycharm": {
     "name": "#%%\n"
    }
   }
  },
  {
   "cell_type": "code",
   "execution_count": 44,
   "outputs": [
    {
     "name": "stdout",
     "output_type": "stream",
     "text": [
      "Shampoo - $15\n",
      "Jabon - $12\n"
     ]
    }
   ],
   "source": [
    "#n+1\n",
    "user = User.get(User.id ==1)\n",
    "\n",
    "for store in user.stores:\n",
    "    for product in store.products:\n",
    "        print(product)"
   ],
   "metadata": {
    "collapsed": false,
    "pycharm": {
     "name": "#%%\n"
    }
   }
  },
  {
   "cell_type": "code",
   "execution_count": 45,
   "outputs": [
    {
     "name": "stdout",
     "output_type": "stream",
     "text": [
      "Shampoo - $15\n",
      "Jabon - $12\n"
     ]
    }
   ],
   "source": [
    "query = (\n",
    "    Product.select()\n",
    "    .join(Store)\n",
    "    .join(User)\n",
    "    .where(User.id == 1)\n",
    "    .order_by(Product.price.desc())\n",
    ")\n",
    "for product in query:\n",
    "    print(product)"
   ],
   "metadata": {
    "collapsed": false,
    "pycharm": {
     "name": "#%%\n"
    }
   }
  },
  {
   "cell_type": "code",
   "execution_count": 46,
   "outputs": [],
   "source": [
    "class User(peewee.Model):\n",
    "    username = peewee.CharField(unique=True, max_length=50, index=True)\n",
    "    password = peewee.CharField(max_length=50)\n",
    "    email = peewee.CharField( max_length=50, null=True)\n",
    "    activate = peewee.BooleanField(default=True)\n",
    "    created_date = peewee.DateTimeField(default=datetime.datetime.now)\n",
    "\n",
    "    class Meta:\n",
    "        database = db\n",
    "        db_table = 'users'\n",
    "\n",
    "    def __str__(self):\n",
    "        return self.username\n",
    "\n",
    "class Store(peewee.Model):\n",
    "    user = peewee.ForeignKeyField(User, related_name='stores')\n",
    "    name = peewee.CharField(max_length=50)\n",
    "    address = peewee.TextField()\n",
    "    active = peewee.BooleanField(default=True)\n",
    "    created_date = peewee.DateTimeField(default=datetime.datetime.now)\n",
    "    class Meta:\n",
    "        database = db\n",
    "        db_table = 'stores'\n",
    "    def __str__(self):\n",
    "        return self.name\n",
    "\n",
    "class Product(peewee.Model):\n",
    "    name = peewee.CharField(max_length=100)\n",
    "    description = peewee.TextField()\n",
    "    store = peewee.ForeignKeyField(Store, related_name='products')\n",
    "    price = peewee.DecimalField(max_digits=5, decimal_places=2)\n",
    "    stock = peewee.IntegerField()\n",
    "    created_date = peewee.DateTimeField(default=datetime.datetime.now)\n",
    "\n",
    "    class Meta:\n",
    "        database = db\n",
    "        db_table = 'products'\n",
    "\n",
    "    def __str__(self):\n",
    "        return '{name} - ${price}'.format(name=self.name, price=self.price)\n",
    "\n",
    "\n",
    "class Category(peewee.Model):\n",
    "    name = peewee.CharField(max_length=50)\n",
    "    description = peewee.TextField()\n",
    "    active = peewee.BooleanField(default=True)\n",
    "    create_date = peewee.DateTimeField(default=datetime.datetime.now)\n",
    "\n",
    "    class Meta:\n",
    "        database= db\n",
    "        db_table = 'categories'\n",
    "\n",
    "    def __str__(self):\n",
    "        return self.name\n",
    "class CategoryProduct(peewee.Model):\n",
    "    product = peewee.ForeignKeyField(Product, related_name='categories')\n",
    "    category = peewee.ForeignKeyField(Category, related_name='products')\n",
    "    class Meta:\n",
    "        database = db\n",
    "        db_table = 'categories_products'\n",
    "\n",
    "    def __str__(self):\n",
    "        return \"{} - {}\".format(self.product,self.category)\n",
    "\n",
    "\n"
   ],
   "metadata": {
    "collapsed": false,
    "pycharm": {
     "name": "#%%\n"
    }
   }
  },
  {
   "cell_type": "code",
   "execution_count": 47,
   "outputs": [],
   "source": [
    "def create_tables():\n",
    "    if Product.table_exists():\n",
    "        Product.drop_table()\n",
    "    if Store.table_exists():\n",
    "        Store.drop_table()\n",
    "    if User.table_exists():\n",
    "        User.drop_table()\n",
    "    if Category.table_exists():\n",
    "        Category.drop_table()\n",
    "    if CategoryProduct.table_exists():\n",
    "        CategoryProduct.drop_table()\n",
    "\n",
    "    User.create_table()\n",
    "    Store.create_table()\n",
    "    Product.create_table()\n",
    "    Category.create_table()\n",
    "    CategoryProduct.create_table()\n",
    "\n",
    "def insert_users():\n",
    "    User.create(username='julio_p', password='clave', email='JulioP@gmail.com')\n",
    "    User.create(username='julio_m', password='2222', email='JulioP2@gmail.com')\n",
    "\n",
    "def insert_store():\n",
    "    Store.create(user_id=1,name='Tienda de animales', address='las polonias')\n",
    "    Store.create(user_id=2,name='Tienda de productos', address='las taras')\n",
    "\n",
    "def insert_products():\n",
    "    Product.create(store_id=1, name='Shampoo',description='shampoo para gatos',\n",
    "                   price=15,stock=10)\n",
    "    Product.create(store_id=1, name='Jabon',description='Jabon para gatos',\n",
    "                   price=12,stock=10)\n",
    "    Product.create(store_id=2, name='Jabon de lavar ropa',description='Lavador de ropa',\n",
    "                   price=16.8,stock=10)\n",
    "    Product.create(store_id=2, name='Jamon',description='Jamon de primera',\n",
    "                   price=12.5,stock=26)\n",
    "    Product.create(store_id=2, name='Queso',description='Queso de primera',\n",
    "                   price=8.5,stock=25)\n",
    "\n",
    "def insert_category():\n",
    "    Category.create(name='Liquidos',description='Liquidos')\n",
    "    Category.create(name='Embutidos',description='Comida Embutidos')\n",
    "    Category.create(name='Snacks',description='Snacks')\n",
    "    Category.create(name='Limpieza',description='Producto de limpieza')\n",
    "\n",
    "def insert_categoryproduct():\n",
    "    CategoryProduct.create(product_id=1, category_id=4)\n",
    "    CategoryProduct.create(product_id=1, category_id=1)\n",
    "    CategoryProduct.create(product_id=2, category_id=4)\n",
    "    CategoryProduct.create(product_id=3, category_id=4)\n",
    "    CategoryProduct.create(product_id=4, category_id=2)\n",
    "    CategoryProduct.create(product_id=5, category_id=4)"
   ],
   "metadata": {
    "collapsed": false,
    "pycharm": {
     "name": "#%%\n"
    }
   }
  },
  {
   "cell_type": "code",
   "execution_count": 48,
   "outputs": [],
   "source": [
    "def create_schema():\n",
    "    create_tables()\n",
    "    insert_users()\n",
    "    insert_store()\n",
    "    insert_products()\n",
    "    insert_category()\n",
    "    insert_categoryproduct()"
   ],
   "metadata": {
    "collapsed": false,
    "pycharm": {
     "name": "#%%\n"
    }
   }
  },
  {
   "cell_type": "code",
   "execution_count": 49,
   "outputs": [
    {
     "name": "stdout",
     "output_type": "stream",
     "text": [
      ">>Liquidos\n",
      "Shampoo - $15 - Liquidos\n",
      ">>Embutidos\n",
      "Jamon - $12.5 - Embutidos\n",
      ">>Snacks\n",
      ">>Limpieza\n",
      "Shampoo - $15 - Limpieza\n",
      "Jabon - $12 - Limpieza\n",
      "Jabon de lavar ropa - $16.8 - Limpieza\n",
      "Queso - $8.5 - Limpieza\n"
     ]
    }
   ],
   "source": [
    "create_schema()\n",
    "\n",
    "categories = Category.select()\n",
    "for category in categories:\n",
    "    print('>>'+str(category))\n",
    "    for product in category.products:\n",
    "        print(product)"
   ],
   "metadata": {
    "collapsed": false,
    "pycharm": {
     "name": "#%%\n"
    }
   }
  },
  {
   "cell_type": "code",
   "execution_count": 50,
   "outputs": [
    {
     "name": "stdout",
     "output_type": "stream",
     "text": [
      "Limpieza\n",
      "Liquidos\n"
     ]
    }
   ],
   "source": [
    "jabon = Product.get(Product.name == 'Shampoo')\n",
    "for category in jabon.categories:\n",
    "    print(category.category.name)"
   ],
   "metadata": {
    "collapsed": false,
    "pycharm": {
     "name": "#%%\n"
    }
   }
  },
  {
   "cell_type": "code",
   "execution_count": 51,
   "outputs": [
    {
     "data": {
      "text/plain": "1"
     },
     "execution_count": 51,
     "metadata": {},
     "output_type": "execute_result"
    }
   ],
   "source": [
    "jabon.delete_instance(recursive=True)"
   ],
   "metadata": {
    "collapsed": false,
    "pycharm": {
     "name": "#%%\n"
    }
   }
  },
  {
   "cell_type": "markdown",
   "source": [
    "---\n",
    "# No SQL"
   ],
   "metadata": {
    "collapsed": false
   }
  },
  {
   "cell_type": "code",
   "execution_count": 51,
   "outputs": [],
   "source": [],
   "metadata": {
    "collapsed": false,
    "pycharm": {
     "name": "#%%\n"
    }
   }
  },
  {
   "cell_type": "code",
   "execution_count": 51,
   "outputs": [],
   "source": [],
   "metadata": {
    "collapsed": false,
    "pycharm": {
     "name": "#%%\n"
    }
   }
  }
 ],
 "metadata": {
  "kernelspec": {
   "display_name": "Python 3",
   "language": "python",
   "name": "python3"
  },
  "language_info": {
   "codemirror_mode": {
    "name": "ipython",
    "version": 2
   },
   "file_extension": ".py",
   "mimetype": "text/x-python",
   "name": "python",
   "nbconvert_exporter": "python",
   "pygments_lexer": "ipython2",
   "version": "2.7.6"
  }
 },
 "nbformat": 4,
 "nbformat_minor": 0
}